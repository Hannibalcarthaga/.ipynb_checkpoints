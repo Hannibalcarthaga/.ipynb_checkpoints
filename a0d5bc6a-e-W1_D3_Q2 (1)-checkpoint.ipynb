{
 "cells": [
  {
   "cell_type": "markdown",
   "metadata": {},
   "source": [
    "<img src=\"https://s3-ap-southeast-1.amazonaws.com/he-public-data/wordmark_black65ee464.png\" width=\"700\">"
   ]
  },
  {
   "cell_type": "markdown",
   "metadata": {},
   "source": [
    "# Day 3 - Question 2"
   ]
  },
  {
   "cell_type": "markdown",
   "metadata": {},
   "source": [
    "**Welcome to Day 3 Question 2 of Quantum Challenge India!**\n",
    "\n",
    "**Today's Reading Assignment:**\n",
    "\n",
    "- [Qiskit Textbook Chapter 1.2 - The Atoms of Computation](https://qiskit.org/textbook/ch-states/atoms-computation.html)\n",
    "- [Qiskit Textbook Chapter 2.2 - Multi Qubits and Entangled States](https://qiskit.org/textbook/ch-gates/multiple-qubits-entangled-states.html)\n",
    "\n",
    "**Additional Resources:**\n",
    "\n",
    "- [Qiskit Youtube - One Minute Qiskit](https://www.youtube.com/playlist?list=PLOFEBzvs-VvpOCmJ9BonUhf7NYB4d1p0e)\n",
    "- [Qiskit Youtube - Coding With Qiskit (Ep-5)](https://www.youtube.com/playlist?list=PLOFEBzvs-Vvp2xg9-POLJhQwtVktlYGbY)\n",
    "- [Qiskit Documentation - Terra](https://qiskit.org/documentation/apidoc/terra.html)\n",
    "- [Qiskit Tutorials](https://qiskit.org/documentation/tutorials/circuits/index.html)\n",
    "\n",
    "\n",
    "\n",
    "In [Chapter 2, Section 2.2](https://qiskit.org/textbook/ch-gates/multiple-qubits-entangled-states.html), we've learnt how to build one of the bell states, i.e, $|\\phi_{+}\\rangle$, but there are three more. \n",
    "\n",
    "Here are all the bell states for your reference: \n",
    "\n",
    "$$|\\phi_{+}\\rangle = \\frac{1}{\\sqrt{2}}(|00\\rangle+|11\\rangle)$$ \n",
    "$$|\\phi_{-}\\rangle = \\frac{1}{\\sqrt{2}}(|00\\rangle-|11\\rangle)$$ \n",
    "$$|\\psi_{+}\\rangle = \\frac{1}{\\sqrt{2}}(|01\\rangle+|10\\rangle)$$ \n",
    "$$|\\psi_{-}\\rangle = \\frac{1}{\\sqrt{2}}(|01\\rangle-|10\\rangle)$$ \n",
    "\n",
    "\n",
    "## Question: Create the specific Bell state given below\n",
    "\n",
    "$$|\\psi_{-}\\rangle = \\frac{1}{\\sqrt{2}}(|01\\rangle-|10\\rangle)$$ \n"
   ]
  },
  {
   "cell_type": "code",
   "execution_count": null,
   "metadata": {},
   "outputs": [],
   "source": [
    "                                                                                                                                                                %matplotlib inline\n",
    "\n",
    "# defining a magic function for creating the submission file.\n",
    "from IPython.core.magic import register_cell_magic\n",
    "@register_cell_magic\n",
    "def write_and_run(line, cell):\n",
    "    argz = line.split()\n",
    "    file = argz[-1]\n",
    "    mode = 'w'\n",
    "    with open(file, mode) as f:\n",
    "        f.write(cell)\n",
    "    get_ipython().run_cell(cell)\n",
    "    \n",
    "# Importing Qiskit visualization libraries \n",
    "from qiskit.tools.jupyter import *\n",
    "from qiskit.visualization import *"
   ]
  },
  {
   "cell_type": "markdown",
   "metadata": {},
   "source": [
    "Now that we have imported what we require lets build our circuit in the `build_state()` function where we have already initialized a `QuantumCircuit` for two qubits. Your task is to add necessary gates as specified in the question and return the quantum circuit. In the case that you require classes that haven't already been imported include them in the space given below for importing libraries.\n",
    "\n",
    "**Note:** Do not change the name of the function `build_state()`. "
   ]
  },
  {
   "cell_type": "code",
   "execution_count": null,
   "metadata": {},
   "outputs": [],
   "source": [
    "%%write_and_run answer_day3_question2.py\n",
    "\n",
    "### WRITE YOUR CODE BETWEEN THESE LINES - START\n",
    "    \n",
    "# import libraries that are used in the function below.\n",
    "from qiskit import QuantumCircuit\n",
    "import numpy as np\n",
    "    \n",
    "### WRITE YOUR CODE BETWEEN THESE LINES - END\n",
    "\n",
    "def build_state():\n",
    "    \n",
    "    # create a quantum circuit on two qubits\n",
    "    circuit = QuantumCircuit(2)\n",
    "    \n",
    "    ### WRITE YOUR CODE BETWEEN THESE LINES - START\n",
    "    \n",
    "    # apply necessary gates\n",
    "    \n",
    "    ### WRITE YOUR CODE BETWEEN THESE LINES - END\n",
    "    return circuit"
   ]
  },
  {
   "cell_type": "markdown",
   "metadata": {},
   "source": [
    "**Circuit Diagram**"
   ]
  },
  {
   "cell_type": "code",
   "execution_count": null,
   "metadata": {},
   "outputs": [],
   "source": [
    "my_circuit = build_state()\n",
    "my_circuit.draw()"
   ]
  },
  {
   "cell_type": "markdown",
   "metadata": {},
   "source": [
    "**Qsphere**"
   ]
  },
  {
   "cell_type": "markdown",
   "metadata": {},
   "source": [
    "After creating the circuit, let's run it on `statevector_simuator` and plot the statevector obtained on a [Qsphere](https://quantum-computing.ibm.com/docs/iqx/visualizations#q-sphere-view). Also checkout this 1 minute qiskit video on [Qsphere](https://www.youtube.com/watch?v=4SoK2h4a7us&t=4s) to know more about this multi-qubit visualization tool."
   ]
  },
  {
   "cell_type": "code",
   "execution_count": null,
   "metadata": {},
   "outputs": [],
   "source": [
    "# importing the simulator\n",
    "from qiskit import execute, Aer\n",
    "\n",
    "backend = Aer.get_backend(\"statevector_simulator\")\n",
    "job = execute(my_circuit,backend=backend)\n",
    "statevector = job.result().get_statevector()\n",
    "plot_state_qsphere(statevector)"
   ]
  },
  {
   "cell_type": "markdown",
   "metadata": {},
   "source": [
    "### Submitting the Answer\n",
    "\n",
    "Once the solution is complete make sure you: \n",
    "\n",
    "* Step 1: **Run the notebook** to generate your submission file named **answer_day3_question2.py** which is a **python file (.py)**. \n",
    "* Step 2: **Upload answer_day3_question2.py** on the HackerEarth platform to get the solution graded and submitted. \n"
   ]
  }
 ],
 "metadata": {
  "kernelspec": {
   "display_name": "Python 3",
   "language": "python",
   "name": "python3"
  },
  "language_info": {
   "codemirror_mode": {
    "name": "ipython",
    "version": 3
   },
   "file_extension": ".py",
   "mimetype": "text/x-python",
   "name": "python",
   "nbconvert_exporter": "python",
   "pygments_lexer": "ipython3",
   "version": "3.8.3"
  }
 },
 "nbformat": 4,
 "nbformat_minor": 4
}
